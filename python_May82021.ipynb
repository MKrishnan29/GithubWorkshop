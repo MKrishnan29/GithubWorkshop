{
  "nbformat": 4,
  "nbformat_minor": 0,
  "metadata": {
    "colab": {
      "name": "Untitled0.ipynb",
      "provenance": [],
      "authorship_tag": "ABX9TyNErVFtwbSddYpPnMTT/08z",
      "include_colab_link": true
    },
    "kernelspec": {
      "name": "python3",
      "display_name": "Python 3"
    },
    "language_info": {
      "name": "python"
    }
  },
  "cells": [
    {
      "cell_type": "markdown",
      "metadata": {
        "id": "view-in-github",
        "colab_type": "text"
      },
      "source": [
        "<a href=\"https://colab.research.google.com/github/MKrishnan29/GithubWorkshop/blob/master/python_May82021.ipynb\" target=\"_parent\"><img src=\"https://colab.research.google.com/assets/colab-badge.svg\" alt=\"Open In Colab\"/></a>"
      ]
    },
    {
      "cell_type": "code",
      "metadata": {
        "colab": {
          "base_uri": "https://localhost:8080/"
        },
        "id": "H6kJzg8Nwq36",
        "outputId": "9b991fa6-0b49-4d04-beb7-e6dc9e4717c0"
      },
      "source": [
        "print(' Happy Birthday')"
      ],
      "execution_count": 1,
      "outputs": [
        {
          "output_type": "stream",
          "text": [
            " Happy Birthday\n"
          ],
          "name": "stdout"
        }
      ]
    },
    {
      "cell_type": "code",
      "metadata": {
        "colab": {
          "base_uri": "https://localhost:8080/"
        },
        "id": "vLoVXazryQyT",
        "outputId": "1a784aa1-376f-49ac-94a1-0a37e70ad9ed"
      },
      "source": [
        "s = 'happy birthday'\n",
        "print(s[1:4])"
      ],
      "execution_count": 2,
      "outputs": [
        {
          "output_type": "stream",
          "text": [
            "app\n"
          ],
          "name": "stdout"
        }
      ]
    },
    {
      "cell_type": "code",
      "metadata": {
        "colab": {
          "base_uri": "https://localhost:8080/"
        },
        "id": "_YgBmubiyfJW",
        "outputId": "3f4ba7f8-8ab7-43dd-fded-09da5668ea11"
      },
      "source": [
        "print(s[-1:4])"
      ],
      "execution_count": 4,
      "outputs": [
        {
          "output_type": "stream",
          "text": [
            "\n"
          ],
          "name": "stdout"
        }
      ]
    },
    {
      "cell_type": "code",
      "metadata": {
        "colab": {
          "base_uri": "https://localhost:8080/"
        },
        "id": "yzyGMQVfy_rl",
        "outputId": "cd6a0443-6166-44e7-fa3e-485484c2a95d"
      },
      "source": [
        "s = 'Happy birthday'\n",
        "print(s[2:6])\n",
        "print(s[-1:])\n",
        "print(s[3:-5])\n",
        "print(s[-3:-1])\n",
        "print(s[-5:-3])\n"
      ],
      "execution_count": 9,
      "outputs": [
        {
          "output_type": "stream",
          "text": [
            "ppy \n",
            "y\n",
            "py bir\n",
            "da\n",
            "th\n"
          ],
          "name": "stdout"
        }
      ]
    },
    {
      "cell_type": "code",
      "metadata": {
        "id": "YJA2d6qiy77s"
      },
      "source": [
        ""
      ],
      "execution_count": null,
      "outputs": []
    }
  ]
}