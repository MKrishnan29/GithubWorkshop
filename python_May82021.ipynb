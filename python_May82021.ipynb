{
  "nbformat": 4,
  "nbformat_minor": 0,
  "metadata": {
    "colab": {
      "name": "Untitled0.ipynb",
      "provenance": [],
      "authorship_tag": "ABX9TyPfG0cZl8BtIcNivnoyhY/y",
      "include_colab_link": true
    },
    "kernelspec": {
      "name": "python3",
      "display_name": "Python 3"
    },
    "language_info": {
      "name": "python"
    }
  },
  "cells": [
    {
      "cell_type": "markdown",
      "metadata": {
        "id": "view-in-github",
        "colab_type": "text"
      },
      "source": [
        "<a href=\"https://colab.research.google.com/github/MKrishnan29/GithubWorkshop/blob/master/python_May82021.ipynb\" target=\"_parent\"><img src=\"https://colab.research.google.com/assets/colab-badge.svg\" alt=\"Open In Colab\"/></a>"
      ]
    },
    {
      "cell_type": "code",
      "metadata": {
        "colab": {
          "base_uri": "https://localhost:8080/"
        },
        "id": "H6kJzg8Nwq36",
        "outputId": "9b991fa6-0b49-4d04-beb7-e6dc9e4717c0"
      },
      "source": [
        "print(' Happy Birthday')"
      ],
      "execution_count": null,
      "outputs": [
        {
          "output_type": "stream",
          "text": [
            " Happy Birthday\n"
          ],
          "name": "stdout"
        }
      ]
    },
    {
      "cell_type": "code",
      "metadata": {
        "colab": {
          "base_uri": "https://localhost:8080/"
        },
        "id": "vLoVXazryQyT",
        "outputId": "1a784aa1-376f-49ac-94a1-0a37e70ad9ed"
      },
      "source": [
        "s = 'happy birthday'\n",
        "print(s[1:4])"
      ],
      "execution_count": null,
      "outputs": [
        {
          "output_type": "stream",
          "text": [
            "app\n"
          ],
          "name": "stdout"
        }
      ]
    },
    {
      "cell_type": "code",
      "metadata": {
        "colab": {
          "base_uri": "https://localhost:8080/"
        },
        "id": "_YgBmubiyfJW",
        "outputId": "3f4ba7f8-8ab7-43dd-fded-09da5668ea11"
      },
      "source": [
        "print(s[-1:4])"
      ],
      "execution_count": null,
      "outputs": [
        {
          "output_type": "stream",
          "text": [
            "\n"
          ],
          "name": "stdout"
        }
      ]
    },
    {
      "cell_type": "code",
      "metadata": {
        "colab": {
          "base_uri": "https://localhost:8080/"
        },
        "id": "yzyGMQVfy_rl",
        "outputId": "cd6a0443-6166-44e7-fa3e-485484c2a95d"
      },
      "source": [
        "s = 'Happy birthday'\n",
        "print(s[2:6])\n",
        "print(s[-1:])\n",
        "print(s[3:-5])\n",
        "print(s[-3:-1])\n",
        "print(s[-5:-3])\n"
      ],
      "execution_count": null,
      "outputs": [
        {
          "output_type": "stream",
          "text": [
            "ppy \n",
            "y\n",
            "py bir\n",
            "da\n",
            "th\n"
          ],
          "name": "stdout"
        }
      ]
    },
    {
      "cell_type": "code",
      "metadata": {
        "id": "YJA2d6qiy77s",
        "colab": {
          "base_uri": "https://localhost:8080/"
        },
        "outputId": "8b58610b-0392-46fa-dd37-963ddb0bd5cb"
      },
      "source": [
        "print(7/3)\n",
        "print(11//2)\n",
        "print(14%3)\n",
        "print(5**3)\n"
      ],
      "execution_count": 1,
      "outputs": [
        {
          "output_type": "stream",
          "text": [
            "2.3333333333333335\n",
            "5\n",
            "2\n",
            "125\n"
          ],
          "name": "stdout"
        }
      ]
    },
    {
      "cell_type": "code",
      "metadata": {
        "colab": {
          "base_uri": "https://localhost:8080/"
        },
        "id": "hjWGSDH83Ojx",
        "outputId": "a8c5e918-fe28-44e9-93fd-eadfba5e0fc6"
      },
      "source": [
        "print(not 5 == 5)"
      ],
      "execution_count": 2,
      "outputs": [
        {
          "output_type": "stream",
          "text": [
            "False\n"
          ],
          "name": "stdout"
        }
      ]
    },
    {
      "cell_type": "code",
      "metadata": {
        "id": "MEm4MpWu42Kj",
        "outputId": "5d12f3f1-359a-48b6-8992-956bad37458c",
        "colab": {
          "base_uri": "https://localhost:8080/"
        }
      },
      "source": [
        "grocery = ['tomato', 'onion','chillies','fish']\n",
        "print(grocery[1:2])\n",
        "print(grocery[0:2])\n",
        "print(grocery[2][2:4])\n",
        "grocery.index('fish')\n"
      ],
      "execution_count": 17,
      "outputs": [
        {
          "output_type": "stream",
          "text": [
            "['onion']\n",
            "['tomato', 'onion']\n",
            "il\n"
          ],
          "name": "stdout"
        },
        {
          "output_type": "execute_result",
          "data": {
            "text/plain": [
              "3"
            ]
          },
          "metadata": {
            "tags": []
          },
          "execution_count": 17
        }
      ]
    },
    {
      "cell_type": "code",
      "metadata": {
        "id": "-18ZobzT6PBN",
        "outputId": "aa7c4b50-3049-47f8-db6c-a259a1c3706c",
        "colab": {
          "base_uri": "https://localhost:8080/"
        }
      },
      "source": [
        "msg = \"om Sri Sairam\"\n",
        "for i in range(3,12,2):\n",
        "  print(msg)"
      ],
      "execution_count": 22,
      "outputs": [
        {
          "output_type": "stream",
          "text": [
            "om Sri Sairam\n",
            "om Sri Sairam\n",
            "om Sri Sairam\n",
            "om Sri Sairam\n",
            "om Sri Sairam\n"
          ],
          "name": "stdout"
        }
      ]
    },
    {
      "cell_type": "code",
      "metadata": {
        "id": "PA-j-MHi7zWd",
        "outputId": "6d175882-9720-4641-d2f1-2113d07c5384",
        "colab": {
          "base_uri": "https://localhost:8080/"
        }
      },
      "source": [
        "grades = [45,34,78,62]\n",
        "for i in grades:\n",
        "  print(i+10)\n",
        "\n",
        "for i in range(4):\n",
        "  print(grades[i])\n",
        "\n",
        "for i in range(len(grades)):\n",
        "  print(grades[i])  "
      ],
      "execution_count": 34,
      "outputs": [
        {
          "output_type": "stream",
          "text": [
            "55\n",
            "44\n",
            "88\n",
            "72\n",
            "45\n",
            "34\n",
            "78\n",
            "62\n",
            "45\n",
            "34\n",
            "78\n",
            "62\n"
          ],
          "name": "stdout"
        }
      ]
    },
    {
      "cell_type": "code",
      "metadata": {
        "id": "UY6wKx1o82wb",
        "outputId": "882daade-c7d0-4197-a47c-d6be9c8a79e8",
        "colab": {
          "base_uri": "https://localhost:8080/"
        }
      },
      "source": [
        "myset = {'apple' ,'oranges','pears'}\n",
        "\n",
        "list_test = [1,2,3,myset]\n",
        "print(list_test)\n",
        "print(list_test[3])\n",
        "print('apple' in myset)\n",
        "myset.add('grapes')\n",
        "myset.add('oranges')\n",
        "print(myset)\n",
        "print('grapes' not in myset)\n",
        "\n",
        "print('pears' not in myset)"
      ],
      "execution_count": 40,
      "outputs": [
        {
          "output_type": "stream",
          "text": [
            "[1, 2, 3, {'apple', 'pears', 'oranges'}]\n",
            "{'apple', 'pears', 'oranges'}\n",
            "True\n",
            "{'apple', 'grapes', 'pears', 'oranges'}\n",
            "False\n",
            "False\n"
          ],
          "name": "stdout"
        }
      ]
    },
    {
      "cell_type": "code",
      "metadata": {
        "id": "lmmybU0GAS3c",
        "outputId": "e621c2e2-0b40-4b56-b5f0-990d337661ce",
        "colab": {
          "base_uri": "https://localhost:8080/"
        }
      },
      "source": [
        "dictionary = {}\n",
        "dict = {\"cat\":\"zimba is my name\",\"dog\":\"brusley is my name\",'cow':\"my cow name is lakshmi\"}\n",
        "print(dict[\"cow\"])\n",
        "print(dict.keys())\n",
        "print(dict.items())\n",
        "dict['cow'] = 'my cow name is annapoorani'\n",
        "dict[\"rat\"]=\"my name is micky\"\n",
        "print(dict.values())\n",
        "del dict['rat']\n",
        "print(dict.items())"
      ],
      "execution_count": 51,
      "outputs": [
        {
          "output_type": "stream",
          "text": [
            "my cow name is lakshmi\n",
            "dict_keys(['cat', 'dog', 'cow'])\n",
            "dict_items([('cat', 'zimba is my name'), ('dog', 'brusley is my name'), ('cow', 'my cow name is lakshmi')])\n",
            "dict_values(['zimba is my name', 'brusley is my name', 'my cow name is annapoorani', 'my name is micky'])\n",
            "dict_items([('cat', 'zimba is my name'), ('dog', 'brusley is my name'), ('cow', 'my cow name is annapoorani')])\n"
          ],
          "name": "stdout"
        }
      ]
    },
    {
      "cell_type": "code",
      "metadata": {
        "id": "eLHVURxJHjIr",
        "outputId": "33d31433-470d-4cff-eb72-6c72b4c90341",
        "colab": {
          "base_uri": "https://localhost:8080/",
          "height": 35
        }
      },
      "source": [
        "car_tuples = ('honda','benz','audi') # immutable, cannot change\n",
        "car_tuples[1]"
      ],
      "execution_count": 53,
      "outputs": [
        {
          "output_type": "execute_result",
          "data": {
            "application/vnd.google.colaboratory.intrinsic+json": {
              "type": "string"
            },
            "text/plain": [
              "'benz'"
            ]
          },
          "metadata": {
            "tags": []
          },
          "execution_count": 53
        }
      ]
    },
    {
      "cell_type": "code",
      "metadata": {
        "id": "ZD5aCIL4Kr4P",
        "outputId": "daf8eaa1-2f53-4ffc-b9f0-46e817f0e817",
        "colab": {
          "base_uri": "https://localhost:8080/"
        }
      },
      "source": [
        "def myfirstfunction():\n",
        "  print(\"sairam\")\n",
        "\n",
        "myfirstfunction()  "
      ],
      "execution_count": 54,
      "outputs": [
        {
          "output_type": "stream",
          "text": [
            "sairam\n"
          ],
          "name": "stdout"
        }
      ]
    },
    {
      "cell_type": "code",
      "metadata": {
        "id": "keGyr1s5LYis",
        "outputId": "deaa3fda-5073-4ff6-9828-7223ce757f59",
        "colab": {
          "base_uri": "https://localhost:8080/"
        }
      },
      "source": [
        "def mysecondfunction(mylist):\n",
        "  print(\"my list items are\", mylist)\n",
        "  for i in range(len(mylist)):\n",
        "    print('my list individual items are :',mylist[i])\n",
        "\n",
        "\n",
        "a = [1,2,3,4]\n",
        "mysecondfunction(a)  "
      ],
      "execution_count": 57,
      "outputs": [
        {
          "output_type": "stream",
          "text": [
            "my list items are [1, 2, 3, 4]\n",
            "my list individual items are : 1\n",
            "my list individual items are : 2\n",
            "my list individual items are : 3\n",
            "my list individual items are : 4\n"
          ],
          "name": "stdout"
        }
      ]
    },
    {
      "cell_type": "code",
      "metadata": {
        "id": "_PdqCNdnMDSi",
        "outputId": "c0c1a839-e4c3-4893-8a82-845584a3072c",
        "colab": {
          "base_uri": "https://localhost:8080/"
        }
      },
      "source": [
        "import time\n",
        "def chatbot():\n",
        "  I_say = input(\"enter the text :\")\n",
        "\n",
        "  if I_say == 'Hello':\n",
        "    time.sleep(5)\n",
        "    print(\"hello ! how are you my friend\")\n",
        "  if I_say == 'what is the time now' :\n",
        "    print(' now the time is 11:30') \n",
        "  if I_say == 'did u eat':\n",
        "    print(' yes, i just had my breakfast')  \n",
        "\n",
        "chatbot()    "
      ],
      "execution_count": 80,
      "outputs": [
        {
          "output_type": "stream",
          "text": [
            "enter the text :what is the time now\n",
            " now the time is 11:30\n"
          ],
          "name": "stdout"
        }
      ]
    },
    {
      "cell_type": "code",
      "metadata": {
        "id": "XzlI5_XRNvcu"
      },
      "source": [
        "\n"
      ],
      "execution_count": 61,
      "outputs": []
    },
    {
      "cell_type": "code",
      "metadata": {
        "id": "UTvTh7cUN9iB",
        "outputId": "90dbdef2-0197-46e6-abff-d0a68b354361",
        "colab": {
          "base_uri": "https://localhost:8080/"
        }
      },
      "source": [
        "def chatbot2():\n",
        "  I_say = input(\"what is your favourite color\")\n",
        "  print( str(I_say) + '  what a dumb color ')  \n",
        "\n",
        "chatbot2()\n"
      ],
      "execution_count": 63,
      "outputs": [
        {
          "output_type": "stream",
          "text": [
            "what is your favourite colorgreen\n",
            "greenwhat a dumb color \n"
          ],
          "name": "stdout"
        }
      ]
    },
    {
      "cell_type": "code",
      "metadata": {
        "id": "Ta3h89dxQKwz",
        "outputId": "4a89a02c-4b8c-471c-d061-561db40bfd72",
        "colab": {
          "base_uri": "https://localhost:8080/"
        }
      },
      "source": [
        "import time\n",
        "\n",
        "time.sleep(10)\n",
        "\n",
        "print('end')"
      ],
      "execution_count": 66,
      "outputs": [
        {
          "output_type": "stream",
          "text": [
            "end\n"
          ],
          "name": "stdout"
        }
      ]
    },
    {
      "cell_type": "code",
      "metadata": {
        "id": "nfOOOunqSrpP",
        "outputId": "020801b4-d6b6-40ea-ac0e-660a33449150",
        "colab": {
          "base_uri": "https://localhost:8080/"
        }
      },
      "source": [
        "import random as r\n",
        "\n",
        "print(r.randint(4,20))"
      ],
      "execution_count": 76,
      "outputs": [
        {
          "output_type": "stream",
          "text": [
            "11\n"
          ],
          "name": "stdout"
        }
      ]
    },
    {
      "cell_type": "code",
      "metadata": {
        "id": "uhOjTfFVTCo0",
        "outputId": "9d012e09-082c-4003-dc45-ec2adfc1593b",
        "colab": {
          "base_uri": "https://localhost:8080/",
          "height": 198
        }
      },
      "source": [
        "\n",
        "\n",
        "for i in range(100):\n",
        "  import random as r\n",
        "  image_number = r.randint(0,1000)\n",
        "  del i[image_number]"
      ],
      "execution_count": 83,
      "outputs": [
        {
          "output_type": "error",
          "ename": "TypeError",
          "evalue": "ignored",
          "traceback": [
            "\u001b[0;31m---------------------------------------------------------------------------\u001b[0m",
            "\u001b[0;31mTypeError\u001b[0m                                 Traceback (most recent call last)",
            "\u001b[0;32m<ipython-input-83-370c12e41cca>\u001b[0m in \u001b[0;36m<module>\u001b[0;34m()\u001b[0m\n\u001b[1;32m      4\u001b[0m   \u001b[0;32mimport\u001b[0m \u001b[0mrandom\u001b[0m \u001b[0;32mas\u001b[0m \u001b[0mr\u001b[0m\u001b[0;34m\u001b[0m\u001b[0;34m\u001b[0m\u001b[0m\n\u001b[1;32m      5\u001b[0m   \u001b[0mimage_number\u001b[0m \u001b[0;34m=\u001b[0m \u001b[0mr\u001b[0m\u001b[0;34m.\u001b[0m\u001b[0mrandint\u001b[0m\u001b[0;34m(\u001b[0m\u001b[0;36m0\u001b[0m\u001b[0;34m,\u001b[0m\u001b[0;36m1000\u001b[0m\u001b[0;34m)\u001b[0m\u001b[0;34m\u001b[0m\u001b[0;34m\u001b[0m\u001b[0m\n\u001b[0;32m----> 6\u001b[0;31m   \u001b[0;32mdel\u001b[0m \u001b[0mi\u001b[0m\u001b[0;34m[\u001b[0m\u001b[0mimage_number\u001b[0m\u001b[0;34m]\u001b[0m\u001b[0;34m\u001b[0m\u001b[0;34m\u001b[0m\u001b[0m\n\u001b[0m",
            "\u001b[0;31mTypeError\u001b[0m: 'int' object does not support item deletion"
          ]
        }
      ]
    },
    {
      "cell_type": "code",
      "metadata": {
        "id": "WRc_0w04U32U"
      },
      "source": [
        "!pip install selenium\n"
      ],
      "execution_count": null,
      "outputs": []
    }
  ]
}